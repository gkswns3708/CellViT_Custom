{
 "cells": [
  {
   "cell_type": "code",
   "execution_count": 1,
   "id": "cd098cca",
   "metadata": {},
   "outputs": [
    {
     "name": "stdout",
     "output_type": "stream",
     "text": [
      "/workspace/CellViT_Custom/Checkpoints/CellViT/CellViT-SAM-H-x40.pth  - model_path\n",
      "Loading checkpoint: _IncompatibleKeys(missing_keys=['pos_embed', 'patch_embed.proj.weight', 'patch_embed.proj.bias', 'blocks.0.norm1.weight', 'blocks.0.norm1.bias', 'blocks.0.attn.rel_pos_h', 'blocks.0.attn.rel_pos_w', 'blocks.0.attn.qkv.weight', 'blocks.0.attn.qkv.bias', 'blocks.0.attn.proj.weight', 'blocks.0.attn.proj.bias', 'blocks.0.norm2.weight', 'blocks.0.norm2.bias', 'blocks.0.mlp.lin1.weight', 'blocks.0.mlp.lin1.bias', 'blocks.0.mlp.lin2.weight', 'blocks.0.mlp.lin2.bias', 'blocks.1.norm1.weight', 'blocks.1.norm1.bias', 'blocks.1.attn.rel_pos_h', 'blocks.1.attn.rel_pos_w', 'blocks.1.attn.qkv.weight', 'blocks.1.attn.qkv.bias', 'blocks.1.attn.proj.weight', 'blocks.1.attn.proj.bias', 'blocks.1.norm2.weight', 'blocks.1.norm2.bias', 'blocks.1.mlp.lin1.weight', 'blocks.1.mlp.lin1.bias', 'blocks.1.mlp.lin2.weight', 'blocks.1.mlp.lin2.bias', 'blocks.2.norm1.weight', 'blocks.2.norm1.bias', 'blocks.2.attn.rel_pos_h', 'blocks.2.attn.rel_pos_w', 'blocks.2.attn.qkv.weight', 'blocks.2.attn.qkv.bias', 'blocks.2.attn.proj.weight', 'blocks.2.attn.proj.bias', 'blocks.2.norm2.weight', 'blocks.2.norm2.bias', 'blocks.2.mlp.lin1.weight', 'blocks.2.mlp.lin1.bias', 'blocks.2.mlp.lin2.weight', 'blocks.2.mlp.lin2.bias', 'blocks.3.norm1.weight', 'blocks.3.norm1.bias', 'blocks.3.attn.rel_pos_h', 'blocks.3.attn.rel_pos_w', 'blocks.3.attn.qkv.weight', 'blocks.3.attn.qkv.bias', 'blocks.3.attn.proj.weight', 'blocks.3.attn.proj.bias', 'blocks.3.norm2.weight', 'blocks.3.norm2.bias', 'blocks.3.mlp.lin1.weight', 'blocks.3.mlp.lin1.bias', 'blocks.3.mlp.lin2.weight', 'blocks.3.mlp.lin2.bias', 'blocks.4.norm1.weight', 'blocks.4.norm1.bias', 'blocks.4.attn.rel_pos_h', 'blocks.4.attn.rel_pos_w', 'blocks.4.attn.qkv.weight', 'blocks.4.attn.qkv.bias', 'blocks.4.attn.proj.weight', 'blocks.4.attn.proj.bias', 'blocks.4.norm2.weight', 'blocks.4.norm2.bias', 'blocks.4.mlp.lin1.weight', 'blocks.4.mlp.lin1.bias', 'blocks.4.mlp.lin2.weight', 'blocks.4.mlp.lin2.bias', 'blocks.5.norm1.weight', 'blocks.5.norm1.bias', 'blocks.5.attn.rel_pos_h', 'blocks.5.attn.rel_pos_w', 'blocks.5.attn.qkv.weight', 'blocks.5.attn.qkv.bias', 'blocks.5.attn.proj.weight', 'blocks.5.attn.proj.bias', 'blocks.5.norm2.weight', 'blocks.5.norm2.bias', 'blocks.5.mlp.lin1.weight', 'blocks.5.mlp.lin1.bias', 'blocks.5.mlp.lin2.weight', 'blocks.5.mlp.lin2.bias', 'blocks.6.norm1.weight', 'blocks.6.norm1.bias', 'blocks.6.attn.rel_pos_h', 'blocks.6.attn.rel_pos_w', 'blocks.6.attn.qkv.weight', 'blocks.6.attn.qkv.bias', 'blocks.6.attn.proj.weight', 'blocks.6.attn.proj.bias', 'blocks.6.norm2.weight', 'blocks.6.norm2.bias', 'blocks.6.mlp.lin1.weight', 'blocks.6.mlp.lin1.bias', 'blocks.6.mlp.lin2.weight', 'blocks.6.mlp.lin2.bias', 'blocks.7.norm1.weight', 'blocks.7.norm1.bias', 'blocks.7.attn.rel_pos_h', 'blocks.7.attn.rel_pos_w', 'blocks.7.attn.qkv.weight', 'blocks.7.attn.qkv.bias', 'blocks.7.attn.proj.weight', 'blocks.7.attn.proj.bias', 'blocks.7.norm2.weight', 'blocks.7.norm2.bias', 'blocks.7.mlp.lin1.weight', 'blocks.7.mlp.lin1.bias', 'blocks.7.mlp.lin2.weight', 'blocks.7.mlp.lin2.bias', 'blocks.8.norm1.weight', 'blocks.8.norm1.bias', 'blocks.8.attn.rel_pos_h', 'blocks.8.attn.rel_pos_w', 'blocks.8.attn.qkv.weight', 'blocks.8.attn.qkv.bias', 'blocks.8.attn.proj.weight', 'blocks.8.attn.proj.bias', 'blocks.8.norm2.weight', 'blocks.8.norm2.bias', 'blocks.8.mlp.lin1.weight', 'blocks.8.mlp.lin1.bias', 'blocks.8.mlp.lin2.weight', 'blocks.8.mlp.lin2.bias', 'blocks.9.norm1.weight', 'blocks.9.norm1.bias', 'blocks.9.attn.rel_pos_h', 'blocks.9.attn.rel_pos_w', 'blocks.9.attn.qkv.weight', 'blocks.9.attn.qkv.bias', 'blocks.9.attn.proj.weight', 'blocks.9.attn.proj.bias', 'blocks.9.norm2.weight', 'blocks.9.norm2.bias', 'blocks.9.mlp.lin1.weight', 'blocks.9.mlp.lin1.bias', 'blocks.9.mlp.lin2.weight', 'blocks.9.mlp.lin2.bias', 'blocks.10.norm1.weight', 'blocks.10.norm1.bias', 'blocks.10.attn.rel_pos_h', 'blocks.10.attn.rel_pos_w', 'blocks.10.attn.qkv.weight', 'blocks.10.attn.qkv.bias', 'blocks.10.attn.proj.weight', 'blocks.10.attn.proj.bias', 'blocks.10.norm2.weight', 'blocks.10.norm2.bias', 'blocks.10.mlp.lin1.weight', 'blocks.10.mlp.lin1.bias', 'blocks.10.mlp.lin2.weight', 'blocks.10.mlp.lin2.bias', 'blocks.11.norm1.weight', 'blocks.11.norm1.bias', 'blocks.11.attn.rel_pos_h', 'blocks.11.attn.rel_pos_w', 'blocks.11.attn.qkv.weight', 'blocks.11.attn.qkv.bias', 'blocks.11.attn.proj.weight', 'blocks.11.attn.proj.bias', 'blocks.11.norm2.weight', 'blocks.11.norm2.bias', 'blocks.11.mlp.lin1.weight', 'blocks.11.mlp.lin1.bias', 'blocks.11.mlp.lin2.weight', 'blocks.11.mlp.lin2.bias', 'neck.0.weight', 'neck.1.weight', 'neck.1.bias', 'neck.2.weight', 'neck.3.weight', 'neck.3.bias'], unexpected_keys=['arch', 'epoch', 'model_state_dict', 'config'])\n"
     ]
    }
   ],
   "source": [
    "from Model.CellViTSAM import *\n",
    "\n",
    "\n",
    "pretrained_model = CellViTSAM(\n",
    "    model_path=Path(\"/workspace/CellViT_Custom/Checkpoints/CellViT/CellViT-SAM-H-x40.pth\"),  # 필수\n",
    "    num_nuclei_classes=6,                               # 필수 (배경 포함)\n",
    "    num_tissue_classes=19,                              # 필수 (조직 분류 안 하면 0)\n",
    "    vit_structure=\"SAM-B\",                              # 필수: \"SAM-B\" | \"SAM-L\" | \"SAM-H\"\n",
    "    drop_rate=0.0,                                      # 옵션\n",
    "    regression_loss=False                               # 옵션\n",
    ")\n",
    "\n",
    "pretrained_model.load_pretrained_encoder(Path(\"/workspace/CellViT_Custom/Checkpoints/CellViT/CellViT-SAM-H-x40.pth\"))\n"
   ]
  },
  {
   "cell_type": "code",
   "execution_count": 2,
   "id": "70c25104",
   "metadata": {},
   "outputs": [],
   "source": [
    "new_model = CellViTSAM(\n",
    "    model_path=Path(\"/workspace/CellViT_Custom/Checkpoints/CellViT/CellViT-SAM-H-x40.pth\"),  # 필수\n",
    "    num_nuclei_classes=6,                               # 필수 (배경 포함)\n",
    "    num_tissue_classes=19,                              # 필수 (조직 분류 안 하면 0)\n",
    "    vit_structure=\"SAM-B\",                              # 필수: \"SAM-B\" | \"SAM-L\" | \"SAM-H\"\n",
    "    drop_rate=0.0,                                      # 옵션\n",
    "    regression_loss=False                               # 옵션\n",
    ")"
   ]
  },
  {
   "cell_type": "code",
   "execution_count": 5,
   "id": "de6dcc87",
   "metadata": {},
   "outputs": [
    {
     "name": "stdout",
     "output_type": "stream",
     "text": [
      "Different layers: ['patch_embed.proj.weight', 'patch_embed.proj.bias', 'blocks.0.attn.qkv.weight', 'blocks.0.attn.qkv.bias', 'blocks.0.attn.proj.weight', 'blocks.0.attn.proj.bias', 'blocks.0.mlp.lin1.weight', 'blocks.0.mlp.lin1.bias', 'blocks.0.mlp.lin2.weight', 'blocks.0.mlp.lin2.bias', 'blocks.1.attn.qkv.weight', 'blocks.1.attn.qkv.bias', 'blocks.1.attn.proj.weight', 'blocks.1.attn.proj.bias', 'blocks.1.mlp.lin1.weight', 'blocks.1.mlp.lin1.bias', 'blocks.1.mlp.lin2.weight', 'blocks.1.mlp.lin2.bias', 'blocks.2.attn.qkv.weight', 'blocks.2.attn.qkv.bias', 'blocks.2.attn.proj.weight', 'blocks.2.attn.proj.bias', 'blocks.2.mlp.lin1.weight', 'blocks.2.mlp.lin1.bias', 'blocks.2.mlp.lin2.weight', 'blocks.2.mlp.lin2.bias', 'blocks.3.attn.qkv.weight', 'blocks.3.attn.qkv.bias', 'blocks.3.attn.proj.weight', 'blocks.3.attn.proj.bias', 'blocks.3.mlp.lin1.weight', 'blocks.3.mlp.lin1.bias', 'blocks.3.mlp.lin2.weight', 'blocks.3.mlp.lin2.bias', 'blocks.4.attn.qkv.weight', 'blocks.4.attn.qkv.bias', 'blocks.4.attn.proj.weight', 'blocks.4.attn.proj.bias', 'blocks.4.mlp.lin1.weight', 'blocks.4.mlp.lin1.bias', 'blocks.4.mlp.lin2.weight', 'blocks.4.mlp.lin2.bias', 'blocks.5.attn.qkv.weight', 'blocks.5.attn.qkv.bias', 'blocks.5.attn.proj.weight', 'blocks.5.attn.proj.bias', 'blocks.5.mlp.lin1.weight', 'blocks.5.mlp.lin1.bias', 'blocks.5.mlp.lin2.weight', 'blocks.5.mlp.lin2.bias', 'blocks.6.attn.qkv.weight', 'blocks.6.attn.qkv.bias', 'blocks.6.attn.proj.weight', 'blocks.6.attn.proj.bias', 'blocks.6.mlp.lin1.weight', 'blocks.6.mlp.lin1.bias', 'blocks.6.mlp.lin2.weight', 'blocks.6.mlp.lin2.bias', 'blocks.7.attn.qkv.weight', 'blocks.7.attn.qkv.bias', 'blocks.7.attn.proj.weight', 'blocks.7.attn.proj.bias', 'blocks.7.mlp.lin1.weight', 'blocks.7.mlp.lin1.bias', 'blocks.7.mlp.lin2.weight', 'blocks.7.mlp.lin2.bias', 'blocks.8.attn.qkv.weight', 'blocks.8.attn.qkv.bias', 'blocks.8.attn.proj.weight', 'blocks.8.attn.proj.bias', 'blocks.8.mlp.lin1.weight', 'blocks.8.mlp.lin1.bias', 'blocks.8.mlp.lin2.weight', 'blocks.8.mlp.lin2.bias', 'blocks.9.attn.qkv.weight', 'blocks.9.attn.qkv.bias', 'blocks.9.attn.proj.weight', 'blocks.9.attn.proj.bias', 'blocks.9.mlp.lin1.weight', 'blocks.9.mlp.lin1.bias', 'blocks.9.mlp.lin2.weight', 'blocks.9.mlp.lin2.bias', 'blocks.10.attn.qkv.weight', 'blocks.10.attn.qkv.bias', 'blocks.10.attn.proj.weight', 'blocks.10.attn.proj.bias', 'blocks.10.mlp.lin1.weight', 'blocks.10.mlp.lin1.bias', 'blocks.10.mlp.lin2.weight', 'blocks.10.mlp.lin2.bias', 'blocks.11.attn.qkv.weight', 'blocks.11.attn.qkv.bias', 'blocks.11.attn.proj.weight', 'blocks.11.attn.proj.bias', 'blocks.11.mlp.lin1.weight', 'blocks.11.mlp.lin1.bias', 'blocks.11.mlp.lin2.weight', 'blocks.11.mlp.lin2.bias', 'neck.0.weight', 'neck.2.weight']\n"
     ]
    }
   ],
   "source": [
    "# 두 모델의 encoder state_dict를 가져옴\n",
    "new_state = new_model.encoder.state_dict()\n",
    "pretrained_state = pretrained_model.encoder.state_dict()\n",
    "\n",
    "# 서로 다른 weight를 저장할 dict\n",
    "diffs = {}\n",
    "\n",
    "for k in new_state:\n",
    "    if k in pretrained_state:\n",
    "        if not torch.equal(new_state[k], pretrained_state[k]):\n",
    "            diffs[k] = {\n",
    "                \"new\": new_state[k].clone(),\n",
    "                \"pretrained\": pretrained_state[k].clone()\n",
    "            }\n",
    "    else:\n",
    "        print(f\"{k} is not in pretrained model.\")\n",
    "\n",
    "for k in pretrained_state:\n",
    "    if k not in new_state:\n",
    "        print(f\"{k} is not in new model.\")\n",
    "\n",
    "print(f\"Different layers: {list(diffs.keys())}\")"
   ]
  },
  {
   "cell_type": "code",
   "execution_count": 1,
   "id": "404dd138",
   "metadata": {},
   "outputs": [
    {
     "name": "stderr",
     "output_type": "stream",
     "text": [
      "/root/miniconda3/envs/cellvit_env/lib/python3.10/site-packages/tqdm/auto.py:21: TqdmWarning: IProgress not found. Please update jupyter and ipywidgets. See https://ipywidgets.readthedocs.io/en/stable/user_install.html\n",
      "  from .autonotebook import tqdm as notebook_tqdm\n"
     ]
    }
   ],
   "source": [
    "from datasets import load_dataset\n",
    "\n",
    "ds = load_dataset(\"RationAI/PanNuke\")"
   ]
  },
  {
   "cell_type": "code",
   "execution_count": 9,
   "id": "317de972",
   "metadata": {},
   "outputs": [
    {
     "data": {
      "text/plain": [
       "10"
      ]
     },
     "execution_count": 9,
     "metadata": {},
     "output_type": "execute_result"
    }
   ],
   "source": [
    "len(ds['fold1'][3]['instances'])"
   ]
  },
  {
   "cell_type": "code",
   "execution_count": 10,
   "id": "6f76c1da",
   "metadata": {},
   "outputs": [
    {
     "data": {
      "text/plain": [
       "{'image': <PIL.PngImagePlugin.PngImageFile image mode=RGB size=256x256>,\n",
       " 'instances': [<PIL.PngImagePlugin.PngImageFile image mode=1 size=256x256>,\n",
       "  <PIL.PngImagePlugin.PngImageFile image mode=1 size=256x256>,\n",
       "  <PIL.PngImagePlugin.PngImageFile image mode=1 size=256x256>,\n",
       "  <PIL.PngImagePlugin.PngImageFile image mode=1 size=256x256>,\n",
       "  <PIL.PngImagePlugin.PngImageFile image mode=1 size=256x256>,\n",
       "  <PIL.PngImagePlugin.PngImageFile image mode=1 size=256x256>,\n",
       "  <PIL.PngImagePlugin.PngImageFile image mode=1 size=256x256>,\n",
       "  <PIL.PngImagePlugin.PngImageFile image mode=1 size=256x256>,\n",
       "  <PIL.PngImagePlugin.PngImageFile image mode=1 size=256x256>,\n",
       "  <PIL.PngImagePlugin.PngImageFile image mode=1 size=256x256>],\n",
       " 'categories': [0, 0, 0, 0, 0, 0, 0, 0, 0, 0],\n",
       " 'tissue': 3}"
      ]
     },
     "execution_count": 10,
     "metadata": {},
     "output_type": "execute_result"
    }
   ],
   "source": [
    "ds['fold1'][3]"
   ]
  },
  {
   "cell_type": "code",
   "execution_count": null,
   "id": "e5f9409f",
   "metadata": {},
   "outputs": [],
   "source": []
  }
 ],
 "metadata": {
  "kernelspec": {
   "display_name": "cellvit_env",
   "language": "python",
   "name": "python3"
  },
  "language_info": {
   "codemirror_mode": {
    "name": "ipython",
    "version": 3
   },
   "file_extension": ".py",
   "mimetype": "text/x-python",
   "name": "python",
   "nbconvert_exporter": "python",
   "pygments_lexer": "ipython3",
   "version": "3.10.14"
  }
 },
 "nbformat": 4,
 "nbformat_minor": 5
}
