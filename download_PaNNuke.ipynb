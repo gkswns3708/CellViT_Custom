{
 "cells": [
  {
   "cell_type": "code",
   "execution_count": 10,
   "id": "17c1b240",
   "metadata": {},
   "outputs": [
    {
     "name": "stderr",
     "output_type": "stream",
     "text": [
      "Downloading data: 100%|██████████| 280M/280M [00:10<00:00, 27.1MB/s] \n",
      "Downloading data: 100%|██████████| 264M/264M [00:09<00:00, 26.5MB/s] \n",
      "Downloading data: 100%|██████████| 289M/289M [00:10<00:00, 27.5MB/s] \n",
      "Generating fold1 split: 100%|██████████| 2656/2656 [00:00<00:00, 4738.21 examples/s]\n",
      "Generating fold2 split: 100%|██████████| 2523/2523 [00:00<00:00, 5963.52 examples/s]\n",
      "Generating fold3 split: 100%|██████████| 2722/2722 [00:00<00:00, 5200.00 examples/s]\n"
     ]
    }
   ],
   "source": [
    "from datasets import load_dataset\n",
    "\n",
    "import os\n",
    "from PIL import Image\n",
    "# 예시: fold-1 train/test\n",
    "PaNNuke = load_dataset(\"RationAI/PanNuke\", split=['fold1', 'fold2', 'fold3'], cache_dir='/workspace/CellViT_Custom/Dataset/PanNuke/')"
   ]
  },
  {
   "cell_type": "code",
   "execution_count": null,
   "id": "4149fda6",
   "metadata": {},
   "outputs": [],
   "source": []
  }
 ],
 "metadata": {
  "kernelspec": {
   "display_name": "base",
   "language": "python",
   "name": "python3"
  },
  "language_info": {
   "codemirror_mode": {
    "name": "ipython",
    "version": 3
   },
   "file_extension": ".py",
   "mimetype": "text/x-python",
   "name": "python",
   "nbconvert_exporter": "python",
   "pygments_lexer": "ipython3",
   "version": "3.11.9"
  }
 },
 "nbformat": 4,
 "nbformat_minor": 5
}
